{
 "cells": [
  {
   "cell_type": "markdown",
   "id": "f31918b7",
   "metadata": {},
   "source": [
    "## 找到单链表的倒数第k个元素"
   ]
  },
  {
   "cell_type": "code",
   "execution_count": 6,
   "id": "8983dc45",
   "metadata": {},
   "outputs": [
    {
     "name": "stdout",
     "output_type": "stream",
     "text": [
      "请输入单链表的值，用空格分隔：1 2 3 4 5 6\n",
      "请输入要查找的值的位置：2\n",
      "5\n"
     ]
    }
   ],
   "source": [
    "class ListNode:\n",
    "    def __init__(self,val = 0,next = None):\n",
    "        self.val = val\n",
    "        self.next = next\n",
    "        \n",
    "    def create_linked_list(values):\n",
    "        if not values:\n",
    "            return None\n",
    "        \n",
    "        head = ListNode(values[0])\n",
    "        current = head\n",
    "        \n",
    "        for val in values[1:]:\n",
    "            current.next = ListNode(val)\n",
    "            current = current.next\n",
    "        return head\n",
    "    \n",
    "    def link_print(head):\n",
    "        current =  head\n",
    "        while current:\n",
    "            print(current.val,end=\" -> \")\n",
    "            current = current.next\n",
    "        print(\"None\")\n",
    "\n",
    "    def find_k_from_end(head,k):\n",
    "        if not head or k <= 0:\n",
    "            return None\n",
    "        current = head\n",
    "        length = 1\n",
    "        #测链表长度\n",
    "        while current.next:\n",
    "            length = length + 1\n",
    "            current = current.next\n",
    "        \n",
    "        if k > length:\n",
    "            return None\n",
    "        index = length - k\n",
    "        current = head\n",
    "        for i in range(index):\n",
    "            current = current.next\n",
    "        return current.val\n",
    "\n",
    "values = input(\"请输入单链表的值，用空格分隔：\")\n",
    "values = [int(val) for val in values.split()]\n",
    "List = ListNode.create_linked_list(values)\n",
    "k = int(input(\"请输入要查找的值的位置：\"))\n",
    "cur_val = List.find_k_from_end(k)\n",
    "if cur_val is not None:\n",
    "    print(cur_val)\n",
    "else:\n",
    "    print(\"错误，不存在\")"
   ]
  }
 ],
 "metadata": {
  "kernelspec": {
   "display_name": "Python 3 (ipykernel)",
   "language": "python",
   "name": "python3"
  },
  "language_info": {
   "codemirror_mode": {
    "name": "ipython",
    "version": 3
   },
   "file_extension": ".py",
   "mimetype": "text/x-python",
   "name": "python",
   "nbconvert_exporter": "python",
   "pygments_lexer": "ipython3",
   "version": "3.11.4"
  }
 },
 "nbformat": 4,
 "nbformat_minor": 5
}
