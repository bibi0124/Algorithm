{
 "cells": [
  {
   "cell_type": "markdown",
   "id": "5e271e09",
   "metadata": {},
   "source": [
    "### Sort Stack: Write a program to sort a stack such that the smallest items are on the top. You can use an additional temporary stack, but you may not copy the elements into any other data structure (such as an array). The stack supports the following operations: push, pop, peek, and is Empty.    \n",
    "排序堆栈:编写一个程序对堆栈进行排序，使最小的项位于堆栈顶部。可以使用额外的临时堆栈，但不能将元素复制到任何其他数据结构(如数组)中。栈支持以下操作:push、pop、peek，且为Empty。"
   ]
  },
  {
   "cell_type": "markdown",
   "id": "a146e346",
   "metadata": {},
   "source": [
    "### 栈的存储结构"
   ]
  },
  {
   "cell_type": "code",
   "execution_count": 15,
   "id": "cf1f720b",
   "metadata": {},
   "outputs": [],
   "source": [
    "class Stack:\n",
    "    def __init__(self):\n",
    "        self.stack = []\n",
    "    def isEmpty(self):\n",
    "        return len(self.stack) == 0\n",
    "    #弹出栈顶元素\n",
    "    def pop(self):\n",
    "        if self.isEmpty():\n",
    "            return None\n",
    "        else:\n",
    "            return self.stack.pop()\n",
    "    #查看栈顶元素\n",
    "    def peek(self):\n",
    "        if self.isEmpty():\n",
    "            raise IndexError('栈为空，无法执行1peek操作')\n",
    "        else:\n",
    "            return self.stack[-1]\n",
    "    #入栈\n",
    "    def push(self,value):\n",
    "        self.stack.append(value)"
   ]
  },
  {
   "cell_type": "code",
   "execution_count": 16,
   "id": "7b3e048d",
   "metadata": {},
   "outputs": [],
   "source": [
    "def sortedStack(S):\n",
    "    if S.isEmpty():\n",
    "        return None\n",
    "    tmp_stack = Stack()\n",
    "    while not S.isEmpty():\n",
    "        tmp = S.pop()\n",
    "        while not tmp_stack.isEmpty() and tmp_stack.peek() > tmp:\n",
    "            S.push(tmp_stack.pop())\n",
    "        tmp_stack.push(tmp)\n",
    "    return tmp_stack"
   ]
  },
  {
   "cell_type": "code",
   "execution_count": 17,
   "id": "3d7eba03",
   "metadata": {},
   "outputs": [
    {
     "name": "stdout",
     "output_type": "stream",
     "text": [
      "[3, 6, 9, 1, 5, 2, 4]\n"
     ]
    }
   ],
   "source": [
    "stack = Stack()\n",
    "stack.push(3)\n",
    "stack.push(6)\n",
    "stack.push(9)\n",
    "stack.push(1)\n",
    "stack.push(5)\n",
    "stack.push(2)\n",
    "stack.push(4)\n",
    "print(stack.stack)"
   ]
  },
  {
   "cell_type": "code",
   "execution_count": 18,
   "id": "ed032702",
   "metadata": {},
   "outputs": [
    {
     "name": "stdout",
     "output_type": "stream",
     "text": [
      "[1, 2, 3, 4, 5, 6, 9]\n"
     ]
    }
   ],
   "source": [
    "sort_stack = sortedStack(stack)\n",
    "print(sort_stack.stack)"
   ]
  },
  {
   "cell_type": "code",
   "execution_count": null,
   "id": "dd93f1d4",
   "metadata": {},
   "outputs": [],
   "source": []
  }
 ],
 "metadata": {
  "kernelspec": {
   "display_name": "Python 3 (ipykernel)",
   "language": "python",
   "name": "python3"
  },
  "language_info": {
   "codemirror_mode": {
    "name": "ipython",
    "version": 3
   },
   "file_extension": ".py",
   "mimetype": "text/x-python",
   "name": "python",
   "nbconvert_exporter": "python",
   "pygments_lexer": "ipython3",
   "version": "3.11.4"
  }
 },
 "nbformat": 4,
 "nbformat_minor": 5
}
