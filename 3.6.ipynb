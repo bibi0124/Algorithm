{
 "cells": [
  {
   "cell_type": "markdown",
   "id": "09b3478a",
   "metadata": {},
   "source": [
    "## Animal Shelter: An animal shelter, which holds only dogs and cats, operates on a strictly\"first in, first out\" basis. People must adopt either the \"oldest\" (based on arrival time) of all animals at the shelter, or they can select whether they would prefer a dog or a cat (and will receive the oldest animal of that type). They cannot select which specific animal they would like. Create the data structures to maintain this system and implement operations such as enqueue, dequeueAny, dequeueDog, and dequeueCat. You may use the built in Linkedlist data structure. \n",
    "动物收容所:只收容猫狗的动物收容所，严格遵循“先进先出”的原则。人们必须收养所有动物中“最老的”(基于到达时间)，或者他们可以选择他们更喜欢狗还是猫(并将接受最老的动物)。他们不能选择他们喜欢的特定动物。创建数据结构以维护该系统并实现诸如enqueue、dequeueAny、dequeueDog和dequeueCat等操作。你可以使用Linkedlist内置的数据结构。"
   ]
  },
  {
   "cell_type": "markdown",
   "id": "7a19de17",
   "metadata": {},
   "source": [
    "使用队列：定义一个animal类，里面有两个队列cat_queue和dog_queue(最先进去代表最老)，但是猫和狗合起来最老的如何确定？？？？（给每一个动物外加一个属性表示时间，然后捆在一个元组里面--听上去感觉是可以的）"
   ]
  },
  {
   "cell_type": "markdown",
   "id": "8b3281b8",
   "metadata": {},
   "source": [
    "### 队列的存储结构"
   ]
  },
  {
   "cell_type": "code",
   "execution_count": 2,
   "id": "7c359c2f",
   "metadata": {},
   "outputs": [
    {
     "name": "stdout",
     "output_type": "stream",
     "text": [
      "1\n",
      "1\n"
     ]
    }
   ],
   "source": [
    "#1.普通队列\n",
    "#queue.put()表示入队\n",
    "#queue.get()表示出队\n",
    "\n",
    "#2.使用列表list表示：\n",
    "queue = []\n",
    "queue.append(1)  #入队\n",
    "queue.append(2)\n",
    "front = queue.pop(0) #出队\n",
    "print(front)\n",
    "\n",
    "#3.双端队列：\n",
    "#collections.deque 是 Python 标准库中的一个双端队列（deque）实现，它提供了高效的操作，适用于在队列的两端（前端和后端）进行添加和删除元素。deque 是 \"double-ended queue\" 的缩写，可以看作是队列和栈的混合数据结构。\n",
    "#append(x): 在队列的右侧添加元素 x。\n",
    "#appendleft(x): 在队列的左侧添加元素 x。\n",
    "#pop(): 移除并返回队列的右侧元素。\n",
    "#popleft(): 移除并返回队列的左侧元素。\n",
    "#extend(iterable): 从右侧扩展队列，将可迭代对象中的元素依次添加到队列的右侧。\n",
    "#extendleft(iterable): 从左侧扩展队列，将可迭代对象中的元素依次添加到队列的左侧。\n",
    "#rotate(n): 向右循环移动队列元素，n 为负数时向左循环。\n",
    "from collections import deque\n",
    "\n",
    "queue = deque()\n",
    "queue.append(1)  #入队\n",
    "queue.append(2)\n",
    "front = queue.popleft()\n",
    "print(front)"
   ]
  },
  {
   "cell_type": "code",
   "execution_count": 7,
   "id": "84ffbcf9",
   "metadata": {},
   "outputs": [],
   "source": [
    "from queue import Queue\n",
    "class Animal:\n",
    "    def __init__(self):\n",
    "        self.dog_queue = Queue()\n",
    "        self.cat_queue = Queue()\n",
    "        self.time = 0\n",
    "    #入队\n",
    "    def enqueue(self,animal_type,index):\n",
    "        self.time += 1\n",
    "        if animal_type == \"dog\":\n",
    "            self.dog_queue.put((animal_type,index,self.time))\n",
    "        elif animal_type == \"cat\":\n",
    "            self.cat_queue.put((animal_type,index,self.time))\n",
    "        else:\n",
    "            raise ValueError(\"抱歉，该宠物收纳所暂时只接收猫或者狗两种宠物！\")\n",
    "    #出队\n",
    "    def dequeueAny(self):\n",
    "        if not self.cat_queue and not self.dog_queue:\n",
    "            return None\n",
    "        if not self.cat_queue:\n",
    "            return self.dog_queue.get()[1]\n",
    "        if not self.dog_queue:\n",
    "            return self.cat_queue.get()[1]\n",
    "        \n",
    "        if self.dog_queue.queue[0][2] < self.cat_queue.queue[0][2]:\n",
    "            return self.dog_queue.get()[1]\n",
    "        else:\n",
    "            return self.cat_queue.get()[1]\n",
    "    \n",
    "    def dequeueDog(self):\n",
    "        if not self.dog_queue:\n",
    "            return None\n",
    "        return self.dog_queue.get()[1]\n",
    "    \n",
    "    def dequeueCat(self):\n",
    "        if not self.cat_queue:\n",
    "            return None\n",
    "        return self.cat_queue.get()[1]"
   ]
  },
  {
   "cell_type": "code",
   "execution_count": 8,
   "id": "e012352c",
   "metadata": {},
   "outputs": [
    {
     "name": "stdout",
     "output_type": "stream",
     "text": [
      "1\n",
      "3\n",
      "2\n"
     ]
    }
   ],
   "source": [
    "shelter = Animal()\n",
    "shelter.enqueue('dog','1')\n",
    "shelter.enqueue('cat','2')\n",
    "shelter.enqueue('dog','3')\n",
    "shelter.enqueue('cat','4')\n",
    "print(shelter.dequeueAny())  \n",
    "print(shelter.dequeueDog())  \n",
    "print(shelter.dequeueCat()) "
   ]
  },
  {
   "cell_type": "code",
   "execution_count": null,
   "id": "57fc1366",
   "metadata": {},
   "outputs": [],
   "source": []
  }
 ],
 "metadata": {
  "kernelspec": {
   "display_name": "Python 3 (ipykernel)",
   "language": "python",
   "name": "python3"
  },
  "language_info": {
   "codemirror_mode": {
    "name": "ipython",
    "version": 3
   },
   "file_extension": ".py",
   "mimetype": "text/x-python",
   "name": "python",
   "nbconvert_exporter": "python",
   "pygments_lexer": "ipython3",
   "version": "3.11.4"
  }
 },
 "nbformat": 4,
 "nbformat_minor": 5
}
