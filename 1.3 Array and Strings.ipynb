{
 "cells": [
  {
   "cell_type": "markdown",
   "id": "7b2f492f",
   "metadata": {},
   "source": [
    "### 给一个字符串以及该字符串的“真实长度”，用“%20”代替字符串中的每一个空格，并假定该字符串的尾部有足够的空间。"
   ]
  },
  {
   "cell_type": "code",
   "execution_count": 1,
   "id": "99f47f69",
   "metadata": {},
   "outputs": [
    {
     "name": "stdout",
     "output_type": "stream",
     "text": [
      "Mr%20John%20Smith\n"
     ]
    }
   ],
   "source": [
    "#方法一：直接调用字符串的函数\n",
    "str = (\"Mr John Smith\")\n",
    "str_replace = str.replace(\" \",\"%20\")\n",
    "print(str_replace)"
   ]
  },
  {
   "cell_type": "code",
   "execution_count": 12,
   "id": "8eb39b5e",
   "metadata": {},
   "outputs": [
    {
     "name": "stdout",
     "output_type": "stream",
     "text": [
      "Mr%20John%20Smith\n"
     ]
    }
   ],
   "source": [
    "#方法二：利用列表往后移\n",
    "def replace_Space(input_str,length):\n",
    "    str_List = list(input_str)\n",
    "    \n",
    "    spaceNum = 0\n",
    "    for i in range(len(str_List)):\n",
    "        if str_List[i] == ' ':\n",
    "            spaceNum += 1\n",
    "            \n",
    "    update_length = length + spaceNum*2\n",
    "    #扩展列表，确保有足够的空间来容纳替换后的字符串\n",
    "    str_List.extend([''] * (update_length - length))\n",
    "    index = update_length - 1\n",
    "    i = length - 1\n",
    "    while i >= 0:\n",
    "        if str_List[i] == ' ':\n",
    "            str_List[index-2] = '%'\n",
    "            str_List[index-1] = '2'\n",
    "            str_List[index] = '0'\n",
    "            index -= 3\n",
    "        else:\n",
    "            str_List[index] = str_List[i]\n",
    "            index -= 1\n",
    "        i -= 1\n",
    "    return ''.join(str_List)\n",
    "\n",
    "str = (\"Mr John Smith\")\n",
    "str_replace = replace_Space(str,13)\n",
    "print(str_replace)"
   ]
  },
  {
   "cell_type": "code",
   "execution_count": null,
   "id": "0b6b8da7",
   "metadata": {},
   "outputs": [],
   "source": []
  }
 ],
 "metadata": {
  "kernelspec": {
   "display_name": "Python 3 (ipykernel)",
   "language": "python",
   "name": "python3"
  },
  "language_info": {
   "codemirror_mode": {
    "name": "ipython",
    "version": 3
   },
   "file_extension": ".py",
   "mimetype": "text/x-python",
   "name": "python",
   "nbconvert_exporter": "python",
   "pygments_lexer": "ipython3",
   "version": "3.11.4"
  }
 },
 "nbformat": 4,
 "nbformat_minor": 5
}
